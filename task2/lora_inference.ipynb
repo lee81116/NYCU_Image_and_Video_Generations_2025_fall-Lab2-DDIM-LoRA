{
 "cells": [
  {
   "cell_type": "code",
   "execution_count": null,
   "metadata": {},
   "outputs": [],
   "source": [
    "import os\n",
    "from PIL import Image\n",
    "from utils import *\n",
    "import torch\n",
    "from diffusers import StableDiffusionPipeline\n",
    "\n",
    "device = \"cuda:0\""
   ]
  },
  {
   "cell_type": "markdown",
   "metadata": {},
   "source": [
    "### Load Stable Diffusion"
   ]
  },
  {
   "cell_type": "code",
   "execution_count": null,
   "metadata": {},
   "outputs": [],
   "source": [
    "pipe = StableDiffusionPipeline.from_pretrained(\n",
    "    \"CompVis/stable-diffusion-v1-4\", \n",
    "    torch_dtype=torch.float16\n",
    ")\n",
    "print(\"[INFO] Successfully loaded Stable Diffusion!\")"
   ]
  },
  {
   "cell_type": "markdown",
   "metadata": {},
   "source": [
    "### Load LoRA weights"
   ]
  },
  {
   "cell_type": "code",
   "execution_count": null,
   "metadata": {},
   "outputs": [],
   "source": [
    "# lora_path = \"./runs/sd-naruto-model-lora\"\n",
    "lora_path = \"./runs/artistic_custom\"\n",
    "# lora_path = \"./runs/dreambooth_cat\"\n",
    "# lora_path = None  # if not using LoRA\n",
    "\n",
    "if lora_path is not None:\n",
    "    pipe.load_lora_weights(lora_path)\n",
    "    print(\"[INFO] Successfully loaded LoRA weights!\")\n",
    "    \n",
    "pipe = pipe.to(device)"
   ]
  },
  {
   "cell_type": "markdown",
   "metadata": {},
   "source": [
    "### Inference"
   ]
  },
  {
   "cell_type": "code",
   "execution_count": null,
   "metadata": {},
   "outputs": [],
   "source": [
    "prompt = \"a man with sunglasses\"\n",
    "\n",
    "seed = 10\n",
    "\n",
    "seed_everything(seed)\n",
    "\n",
    "image = pipe(\n",
    "    prompt, \n",
    "    num_inference_steps=30, \n",
    "    guidance_scale=7.5\n",
    ").images[0]\n",
    "\n",
    "image"
   ]
  }
 ],
 "metadata": {
  "kernelspec": {
   "display_name": "ddpm",
   "language": "python",
   "name": "python3"
  },
  "language_info": {
   "codemirror_mode": {
    "name": "ipython",
    "version": 3
   },
   "file_extension": ".py",
   "mimetype": "text/x-python",
   "name": "python",
   "nbconvert_exporter": "python",
   "pygments_lexer": "ipython3",
   "version": "3.9.23"
  }
 },
 "nbformat": 4,
 "nbformat_minor": 2
}
